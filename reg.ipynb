{
 "cells": [
  {
   "cell_type": "code",
   "execution_count": 5,
   "metadata": {},
   "outputs": [],
   "source": [
    "import re\n",
    "\n",
    "def detokenize(x):\n",
    "    return re.sub(r\" ([,\\.;:?!%])\", r\"\\1\", x)\n",
    "\n",
    "def captalize_first_letter(x):\n",
    "    return x[0].upper() + x[1:]"
   ]
  },
  {
   "cell_type": "code",
   "execution_count": 163,
   "metadata": {},
   "outputs": [],
   "source": [
    "with open(\"./data/formal/test.txt\", \"r\") as f:\n",
    "    data = f.readlines()\n",
    "\n",
    "# data = [detokenize(x) for x in data]\n",
    "\n",
    "# with open(\"./data/formal/test.txt\", \"w\") as f:\n",
    "#     f.writelines(data)"
   ]
  },
  {
   "cell_type": "code",
   "execution_count": 164,
   "metadata": {},
   "outputs": [],
   "source": [
    "def convert(x):\n",
    "    x = re.sub(r\"\\bi\\b\", \"I\", x)\n",
    "    # Remove space before \"'\"\n",
    "    x = re.sub(r\"\\s'\", \"'\", x)\n",
    "    # captial letter after punctuation\n",
    "    indicies = [m.start() for m in re.finditer(r\"[\\.;:?!%]\", x)]\n",
    "    x = list(x)\n",
    "    for i, _ in enumerate(x):\n",
    "        if i in indicies:\n",
    "            try:\n",
    "                x[i+2] = x[i+2].upper()\n",
    "            except:\n",
    "                pass\n",
    "    x = \"\".join(x)\n",
    "    x = captalize_first_letter(x)\n",
    "    return x"
   ]
  },
  {
   "cell_type": "code",
   "execution_count": 165,
   "metadata": {},
   "outputs": [],
   "source": [
    "with open(\"./data/formal/test.txt\", \"w\") as f:\n",
    "    f.writelines([convert(x) for x in data])"
   ]
  }
 ],
 "metadata": {
  "interpreter": {
   "hash": "39700cee7c9f6d119db907fd8097b35257c8cb15cf50d8f6935cafabef188137"
  },
  "kernelspec": {
   "display_name": "Python 3.9.6 64-bit",
   "language": "python",
   "name": "python3"
  },
  "language_info": {
   "codemirror_mode": {
    "name": "ipython",
    "version": 3
   },
   "file_extension": ".py",
   "mimetype": "text/x-python",
   "name": "python",
   "nbconvert_exporter": "python",
   "pygments_lexer": "ipython3",
   "version": "3.9.6"
  },
  "orig_nbformat": 4
 },
 "nbformat": 4,
 "nbformat_minor": 2
}
